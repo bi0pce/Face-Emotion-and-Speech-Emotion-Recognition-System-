{
  "cells": [
    {
      "cell_type": "markdown",
      "metadata": {
        "id": "view-in-github",
        "colab_type": "text"
      },
      "source": [
        "<a href=\"https://colab.research.google.com/github/bi0pce/Face-Emotion-and-Speech-Emotion-Recognition-System-/blob/main/face_emotion_recognition_DL.ipynb\" target=\"_parent\"><img src=\"https://colab.research.google.com/assets/colab-badge.svg\" alt=\"Open In Colab\"/></a>"
      ]
    },
    {
      "cell_type": "code",
      "execution_count": null,
      "metadata": {
        "id": "a0cf86c9"
      },
      "outputs": [],
      "source": [
        "import numpy as np\n",
        "import cv2\n",
        "from tensorflow.keras.models import Sequential\n",
        "from tensorflow.keras.layers import Dense, Dropout, Flatten\n",
        "from tensorflow.keras.layers import Conv2D\n",
        "from tensorflow.keras.optimizers import Adam\n",
        "from tensorflow.keras.layers import MaxPooling2D\n",
        "from tensorflow.keras.preprocessing.image import ImageDataGenerator"
      ],
      "id": "a0cf86c9"
    },
    {
      "cell_type": "code",
      "execution_count": null,
      "metadata": {
        "colab": {
          "base_uri": "https://localhost:8080/"
        },
        "id": "RFsjkkiY8pdW",
        "outputId": "3361902b-ce83-430e-d2c8-42658e883a00"
      },
      "outputs": [
        {
          "output_type": "stream",
          "name": "stdout",
          "text": [
            "Mounted at /content/drive\n"
          ]
        }
      ],
      "source": [
        "from google.colab import drive\n",
        "drive.mount('/content/drive')"
      ],
      "id": "RFsjkkiY8pdW"
    },
    {
      "cell_type": "code",
      "execution_count": null,
      "metadata": {
        "colab": {
          "base_uri": "https://localhost:8080/"
        },
        "id": "58ef9a6a",
        "outputId": "b80ee1d4-ce14-432c-b092-df1f6d2f8afe"
      },
      "outputs": [
        {
          "output_type": "stream",
          "name": "stdout",
          "text": [
            "Found 1400 images belonging to 7 classes.\n",
            "Found 350 images belonging to 7 classes.\n"
          ]
        }
      ],
      "source": [
        "train_dir = '/content/drive/MyDrive/project_DL/train'\n",
        "val_dir = '/content/drive/MyDrive/project_DL/test'\n",
        "train_datagen = ImageDataGenerator(rescale=1./255)\n",
        "val_datagen = ImageDataGenerator(rescale=1./255)\n",
        "train_generator = train_datagen.flow_from_directory(\n",
        "        train_dir,\n",
        "        target_size=(48,48),\n",
        "        batch_size=64,\n",
        "        color_mode=\"grayscale\",\n",
        "        class_mode='categorical')\n",
        "validation_generator = val_datagen.flow_from_directory(\n",
        "        val_dir,\n",
        "        target_size=(48,48),\n",
        "        batch_size=64,\n",
        "        color_mode=\"grayscale\",\n",
        "        class_mode='categorical')"
      ],
      "id": "58ef9a6a"
    },
    {
      "cell_type": "code",
      "execution_count": null,
      "metadata": {
        "id": "a104487b"
      },
      "outputs": [],
      "source": [
        "emotion_model = Sequential()\n",
        "emotion_model.add(Conv2D(32, kernel_size=(3, 3), activation='relu', input_shape=(48,48,1)))\n",
        "emotion_model.add(Conv2D(64, kernel_size=(3, 3), activation='relu'))\n",
        "emotion_model.add(MaxPooling2D(pool_size=(2, 2)))\n",
        "emotion_model.add(Dropout(0.25))\n",
        "emotion_model.add(Conv2D(128, kernel_size=(3, 3), activation='relu'))\n",
        "emotion_model.add(MaxPooling2D(pool_size=(2, 2)))\n",
        "emotion_model.add(Conv2D(128, kernel_size=(3, 3), activation='relu'))\n",
        "emotion_model.add(MaxPooling2D(pool_size=(2, 2)))\n",
        "emotion_model.add(Dropout(0.25))\n",
        "emotion_model.add(Flatten())\n",
        "emotion_model.add(Dense(1024, activation='relu'))\n",
        "emotion_model.add(Dropout(0.5))\n",
        "emotion_model.add(Dense(7, activation='softmax'))"
      ],
      "id": "a104487b"
    },
    {
      "cell_type": "code",
      "execution_count": null,
      "metadata": {
        "colab": {
          "base_uri": "https://localhost:8080/"
        },
        "id": "b751f868",
        "outputId": "1f204266-95f3-4fde-e3b5-516f9624010f"
      },
      "outputs": [
        {
          "output_type": "stream",
          "name": "stderr",
          "text": [
            "WARNING:absl:`lr` is deprecated in Keras optimizer, please use `learning_rate` or use the legacy optimizer, e.g.,tf.keras.optimizers.legacy.Adam.\n",
            "<ipython-input-5-5ab33bc8a19f>:2: UserWarning: `Model.fit_generator` is deprecated and will be removed in a future version. Please use `Model.fit`, which supports generators.\n",
            "  emotion_model_info = emotion_model.fit_generator(\n"
          ]
        },
        {
          "output_type": "stream",
          "name": "stdout",
          "text": [
            "Epoch 1/50\n",
            "22/22 [==============================] - 406s 18s/step - loss: 1.9370 - accuracy: 0.1829 - val_loss: 1.9165 - val_accuracy: 0.1371\n",
            "Epoch 2/50\n",
            "22/22 [==============================] - 101s 5s/step - loss: 1.7692 - accuracy: 0.2564 - val_loss: 1.8045 - val_accuracy: 0.2771\n",
            "Epoch 3/50\n",
            "22/22 [==============================] - 103s 5s/step - loss: 1.5775 - accuracy: 0.3764 - val_loss: 1.7404 - val_accuracy: 0.2971\n",
            "Epoch 4/50\n",
            "22/22 [==============================] - 100s 5s/step - loss: 1.3494 - accuracy: 0.4971 - val_loss: 1.5380 - val_accuracy: 0.4743\n",
            "Epoch 5/50\n",
            "22/22 [==============================] - 102s 5s/step - loss: 1.2033 - accuracy: 0.5393 - val_loss: 1.3897 - val_accuracy: 0.5143\n",
            "Epoch 6/50\n",
            "22/22 [==============================] - 100s 5s/step - loss: 1.0404 - accuracy: 0.5979 - val_loss: 1.2739 - val_accuracy: 0.5571\n",
            "Epoch 7/50\n",
            "22/22 [==============================] - 105s 5s/step - loss: 0.9943 - accuracy: 0.6243 - val_loss: 1.0987 - val_accuracy: 0.6257\n",
            "Epoch 8/50\n",
            "22/22 [==============================] - 117s 5s/step - loss: 0.8638 - accuracy: 0.6714 - val_loss: 1.0170 - val_accuracy: 0.6657\n",
            "Epoch 9/50\n",
            "22/22 [==============================] - 101s 5s/step - loss: 0.7251 - accuracy: 0.7307 - val_loss: 0.9789 - val_accuracy: 0.6571\n",
            "Epoch 10/50\n",
            "22/22 [==============================] - 101s 5s/step - loss: 0.6834 - accuracy: 0.7521 - val_loss: 0.8655 - val_accuracy: 0.7114\n",
            "Epoch 11/50\n",
            "22/22 [==============================] - 102s 5s/step - loss: 0.5859 - accuracy: 0.7800 - val_loss: 0.7592 - val_accuracy: 0.7629\n",
            "Epoch 12/50\n",
            "22/22 [==============================] - 100s 5s/step - loss: 0.4783 - accuracy: 0.8200 - val_loss: 0.7334 - val_accuracy: 0.7714\n",
            "Epoch 13/50\n",
            "22/22 [==============================] - 98s 5s/step - loss: 0.4721 - accuracy: 0.8193 - val_loss: 0.7439 - val_accuracy: 0.7629\n",
            "Epoch 14/50\n",
            "22/22 [==============================] - 100s 5s/step - loss: 0.3951 - accuracy: 0.8514 - val_loss: 0.6951 - val_accuracy: 0.8000\n",
            "Epoch 15/50\n",
            "22/22 [==============================] - 103s 5s/step - loss: 0.4365 - accuracy: 0.8393 - val_loss: 0.6216 - val_accuracy: 0.8000\n",
            "Epoch 16/50\n",
            "22/22 [==============================] - 102s 5s/step - loss: 0.3730 - accuracy: 0.8543 - val_loss: 0.6021 - val_accuracy: 0.8286\n",
            "Epoch 17/50\n",
            "22/22 [==============================] - 116s 5s/step - loss: 0.3287 - accuracy: 0.8771 - val_loss: 0.5906 - val_accuracy: 0.8229\n",
            "Epoch 18/50\n",
            "22/22 [==============================] - 100s 5s/step - loss: 0.3212 - accuracy: 0.8779 - val_loss: 0.5765 - val_accuracy: 0.8457\n",
            "Epoch 19/50\n",
            "22/22 [==============================] - 101s 5s/step - loss: 0.2921 - accuracy: 0.8979 - val_loss: 0.6116 - val_accuracy: 0.8086\n",
            "Epoch 20/50\n",
            "22/22 [==============================] - 102s 5s/step - loss: 0.2680 - accuracy: 0.9057 - val_loss: 0.5816 - val_accuracy: 0.8400\n",
            "Epoch 21/50\n",
            "22/22 [==============================] - 105s 5s/step - loss: 0.2586 - accuracy: 0.9036 - val_loss: 0.5293 - val_accuracy: 0.8714\n",
            "Epoch 22/50\n",
            "22/22 [==============================] - 103s 5s/step - loss: 0.2161 - accuracy: 0.9200 - val_loss: 0.5821 - val_accuracy: 0.8514\n",
            "Epoch 23/50\n",
            "22/22 [==============================] - 103s 5s/step - loss: 0.1998 - accuracy: 0.9293 - val_loss: 0.5606 - val_accuracy: 0.8571\n",
            "Epoch 24/50\n",
            "22/22 [==============================] - 106s 5s/step - loss: 0.2020 - accuracy: 0.9186 - val_loss: 0.5025 - val_accuracy: 0.8829\n",
            "Epoch 25/50\n",
            "22/22 [==============================] - 101s 5s/step - loss: 0.1932 - accuracy: 0.9229 - val_loss: 0.5459 - val_accuracy: 0.8829\n",
            "Epoch 26/50\n",
            "22/22 [==============================] - 102s 5s/step - loss: 0.1989 - accuracy: 0.9243 - val_loss: 0.5343 - val_accuracy: 0.8714\n",
            "Epoch 27/50\n",
            "22/22 [==============================] - 103s 5s/step - loss: 0.1757 - accuracy: 0.9364 - val_loss: 0.5510 - val_accuracy: 0.8657\n",
            "Epoch 28/50\n",
            "22/22 [==============================] - 102s 5s/step - loss: 0.1585 - accuracy: 0.9414 - val_loss: 0.6118 - val_accuracy: 0.8657\n",
            "Epoch 29/50\n",
            "22/22 [==============================] - 102s 5s/step - loss: 0.1371 - accuracy: 0.9507 - val_loss: 0.5916 - val_accuracy: 0.8714\n",
            "Epoch 30/50\n",
            "22/22 [==============================] - 101s 5s/step - loss: 0.1515 - accuracy: 0.9421 - val_loss: 0.5313 - val_accuracy: 0.8886\n",
            "Epoch 31/50\n",
            "22/22 [==============================] - 102s 5s/step - loss: 0.1418 - accuracy: 0.9486 - val_loss: 0.4837 - val_accuracy: 0.8829\n",
            "Epoch 32/50\n",
            "22/22 [==============================] - 103s 5s/step - loss: 0.1063 - accuracy: 0.9571 - val_loss: 0.5826 - val_accuracy: 0.8743\n",
            "Epoch 33/50\n",
            "22/22 [==============================] - 100s 5s/step - loss: 0.1273 - accuracy: 0.9579 - val_loss: 0.4792 - val_accuracy: 0.8943\n",
            "Epoch 34/50\n",
            "22/22 [==============================] - 103s 5s/step - loss: 0.1090 - accuracy: 0.9629 - val_loss: 0.6386 - val_accuracy: 0.8800\n",
            "Epoch 35/50\n",
            "22/22 [==============================] - 103s 5s/step - loss: 0.1072 - accuracy: 0.9614 - val_loss: 0.5550 - val_accuracy: 0.8714\n",
            "Epoch 36/50\n",
            "22/22 [==============================] - 103s 5s/step - loss: 0.0962 - accuracy: 0.9700 - val_loss: 0.5974 - val_accuracy: 0.8857\n",
            "Epoch 37/50\n",
            "22/22 [==============================] - 102s 5s/step - loss: 0.0913 - accuracy: 0.9650 - val_loss: 0.6114 - val_accuracy: 0.8971\n",
            "Epoch 38/50\n",
            "22/22 [==============================] - 115s 5s/step - loss: 0.1029 - accuracy: 0.9664 - val_loss: 0.5783 - val_accuracy: 0.8943\n",
            "Epoch 39/50\n",
            "22/22 [==============================] - 100s 5s/step - loss: 0.0994 - accuracy: 0.9671 - val_loss: 0.6368 - val_accuracy: 0.8771\n",
            "Epoch 40/50\n",
            "22/22 [==============================] - 117s 5s/step - loss: 0.0777 - accuracy: 0.9743 - val_loss: 0.5276 - val_accuracy: 0.8971\n",
            "Epoch 41/50\n",
            "22/22 [==============================] - 101s 5s/step - loss: 0.0892 - accuracy: 0.9629 - val_loss: 0.6231 - val_accuracy: 0.9000\n",
            "Epoch 42/50\n",
            "22/22 [==============================] - 103s 5s/step - loss: 0.0848 - accuracy: 0.9686 - val_loss: 0.6684 - val_accuracy: 0.8829\n",
            "Epoch 43/50\n",
            "22/22 [==============================] - 103s 5s/step - loss: 0.0935 - accuracy: 0.9707 - val_loss: 0.6017 - val_accuracy: 0.8886\n",
            "Epoch 44/50\n",
            "22/22 [==============================] - 102s 5s/step - loss: 0.1011 - accuracy: 0.9671 - val_loss: 0.6066 - val_accuracy: 0.8857\n",
            "Epoch 45/50\n",
            "22/22 [==============================] - 99s 5s/step - loss: 0.0760 - accuracy: 0.9686 - val_loss: 0.5422 - val_accuracy: 0.8971\n",
            "Epoch 46/50\n",
            "22/22 [==============================] - 99s 5s/step - loss: 0.0718 - accuracy: 0.9779 - val_loss: 0.5770 - val_accuracy: 0.8971\n",
            "Epoch 47/50\n",
            "22/22 [==============================] - 99s 5s/step - loss: 0.0985 - accuracy: 0.9671 - val_loss: 0.5275 - val_accuracy: 0.9057\n",
            "Epoch 48/50\n",
            "22/22 [==============================] - 99s 5s/step - loss: 0.0686 - accuracy: 0.9779 - val_loss: 0.5539 - val_accuracy: 0.9171\n",
            "Epoch 49/50\n",
            "22/22 [==============================] - 100s 5s/step - loss: 0.0592 - accuracy: 0.9779 - val_loss: 0.6672 - val_accuracy: 0.8943\n",
            "Epoch 50/50\n",
            "22/22 [==============================] - 102s 5s/step - loss: 0.0674 - accuracy: 0.9736 - val_loss: 0.6352 - val_accuracy: 0.9000\n"
          ]
        }
      ],
      "source": [
        "emotion_model.compile(loss='categorical_crossentropy',optimizer=Adam(lr=0.0001),metrics=['accuracy'])\n",
        "emotion_model_info = emotion_model.fit_generator(\n",
        "        train_generator,\n",
        "        #steps_per_epoch=28709 // 64,\n",
        "        epochs=50,\n",
        "        validation_data=validation_generator)\n",
        "        #validation_steps=7178 // 64)"
      ],
      "id": "b751f868"
    },
    {
      "cell_type": "code",
      "execution_count": null,
      "metadata": {
        "colab": {
          "base_uri": "https://localhost:8080/"
        },
        "id": "KNoUtCpf03vQ",
        "outputId": "4d433585-c226-4466-b729-63f589f516fa"
      },
      "outputs": [
        {
          "output_type": "stream",
          "name": "stdout",
          "text": [
            "Model: \"sequential\"\n",
            "_________________________________________________________________\n",
            " Layer (type)                Output Shape              Param #   \n",
            "=================================================================\n",
            " conv2d (Conv2D)             (None, 46, 46, 32)        320       \n",
            "                                                                 \n",
            " conv2d_1 (Conv2D)           (None, 44, 44, 64)        18496     \n",
            "                                                                 \n",
            " max_pooling2d (MaxPooling2D  (None, 22, 22, 64)       0         \n",
            " )                                                               \n",
            "                                                                 \n",
            " dropout (Dropout)           (None, 22, 22, 64)        0         \n",
            "                                                                 \n",
            " conv2d_2 (Conv2D)           (None, 20, 20, 128)       73856     \n",
            "                                                                 \n",
            " max_pooling2d_1 (MaxPooling  (None, 10, 10, 128)      0         \n",
            " 2D)                                                             \n",
            "                                                                 \n",
            " conv2d_3 (Conv2D)           (None, 8, 8, 128)         147584    \n",
            "                                                                 \n",
            " max_pooling2d_2 (MaxPooling  (None, 4, 4, 128)        0         \n",
            " 2D)                                                             \n",
            "                                                                 \n",
            " dropout_1 (Dropout)         (None, 4, 4, 128)         0         \n",
            "                                                                 \n",
            " flatten (Flatten)           (None, 2048)              0         \n",
            "                                                                 \n",
            " dense (Dense)               (None, 1024)              2098176   \n",
            "                                                                 \n",
            " dropout_2 (Dropout)         (None, 1024)              0         \n",
            "                                                                 \n",
            " dense_1 (Dense)             (None, 7)                 7175      \n",
            "                                                                 \n",
            "=================================================================\n",
            "Total params: 2,345,607\n",
            "Trainable params: 2,345,607\n",
            "Non-trainable params: 0\n",
            "_________________________________________________________________\n"
          ]
        }
      ],
      "source": [
        "emotion_model.summary()"
      ],
      "id": "KNoUtCpf03vQ"
    },
    {
      "cell_type": "code",
      "execution_count": null,
      "metadata": {
        "id": "e90b1e9c"
      },
      "outputs": [],
      "source": [
        "emotion_model.save('new24_model.h5')"
      ],
      "id": "e90b1e9c"
    },
    {
      "cell_type": "code",
      "execution_count": null,
      "metadata": {
        "id": "b4be9aba"
      },
      "outputs": [],
      "source": [
        "import matplotlib.pyplot as plt"
      ],
      "id": "b4be9aba"
    },
    {
      "cell_type": "code",
      "execution_count": null,
      "metadata": {
        "colab": {
          "base_uri": "https://localhost:8080/",
          "height": 447
        },
        "id": "49655d90",
        "outputId": "839ce607-fd36-4428-ef02-63f233709fc1"
      },
      "outputs": [
        {
          "output_type": "display_data",
          "data": {
            "text/plain": [
              "<Figure size 640x480 with 1 Axes>"
            ],
            "image/png": "[encoded data removed]"
          },
          "metadata": {}
        },
        {
          "output_type": "display_data",
          "data": {
            "text/plain": [
              "<Figure size 640x480 with 0 Axes>"
            ]
          },
          "metadata": {}
        }
      ],
      "source": [
        "# loss\n",
        "plt.plot(emotion_model_info.history['loss'], label='train loss')\n",
        "plt.plot(emotion_model_info.history['val_loss'], label='val loss')\n",
        "plt.legend()\n",
        "plt.show()\n",
        "plt.savefig('LossVal_loss')"
      ],
      "id": "49655d90"
    },
    {
      "cell_type": "code",
      "execution_count": null,
      "metadata": {
        "colab": {
          "base_uri": "https://localhost:8080/",
          "height": 447
        },
        "id": "a56a803d",
        "outputId": "dbfb1e05-1ecc-4b33-e2ae-4feab97d8367"
      },
      "outputs": [
        {
          "output_type": "display_data",
          "data": {
            "text/plain": [
              "<Figure size 640x480 with 1 Axes>"
            ],
            "image/png": "[encoded data removed]"
          },
          "metadata": {}
        },
        {
          "output_type": "display_data",
          "data": {
            "text/plain": [
              "<Figure size 640x480 with 0 Axes>"
            ]
          },
          "metadata": {}
        }
      ],
      "source": [
        "# accuracies\n",
        "plt.plot(emotion_model_info.history['accuracy'], label='train acc')\n",
        "plt.plot(emotion_model_info.history['val_accuracy'], label='val acc')\n",
        "plt.legend()\n",
        "plt.show()\n",
        "plt.savefig('AccVal_acc')"
      ],
      "id": "a56a803d"
    },
    {
      "cell_type": "code",
      "execution_count": null,
      "metadata": {
        "id": "5e704da8"
      },
      "outputs": [],
      "source": [],
      "id": "5e704da8"
    }
  ],
  "metadata": {
    "accelerator": "GPU",
    "colab": {
      "provenance": [],
      "include_colab_link": true
    },
    "gpuClass": "standard",
    "kernelspec": {
      "display_name": "Python 3 (ipykernel)",
      "language": "python",
      "name": "python3"
    },
    "language_info": {
      "codemirror_mode": {
        "name": "ipython",
        "version": 3
      },
      "file_extension": ".py",
      "mimetype": "text/x-python",
      "name": "python",
      "nbconvert_exporter": "python",
      "pygments_lexer": "ipython3",
      "version": "3.9.13"
    }
  },
  "nbformat": 4,
  "nbformat_minor": 5
}